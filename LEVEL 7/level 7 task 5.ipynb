{
 "cells": [
  {
   "cell_type": "code",
   "execution_count": 1,
   "id": "590b262c-65b0-4397-b1e5-8258bf4f56b5",
   "metadata": {},
   "outputs": [],
   "source": [
    "import numpy as np"
   ]
  },
  {
   "cell_type": "code",
   "execution_count": 2,
   "id": "e23d39d3-bf42-4ad6-9c98-46c79735ca2d",
   "metadata": {},
   "outputs": [],
   "source": [
    "height = np.array([160, 170, 180, 175])\n",
    "weight = np.array([60, 70, 75, 65])"
   ]
  },
  {
   "cell_type": "code",
   "execution_count": 3,
   "id": "9bffe234-8a77-42ef-8140-a5620db5dbf8",
   "metadata": {},
   "outputs": [],
   "source": [
    "covariance = np.cov(height, weight, ddof=1)[0, 1]"
   ]
  },
  {
   "cell_type": "code",
   "execution_count": 4,
   "id": "c5f8f5df-3a8a-467d-8377-57c8241416cc",
   "metadata": {},
   "outputs": [],
   "source": [
    "if covariance > 0:\n",
    "    interpretation = \"Positive covariance; as height increases, weight tends to increase.\"\n",
    "else:\n",
    "    interpretation = \"Negative covariance; as height increases, weight tends to decrease.\""
   ]
  },
  {
   "cell_type": "code",
   "execution_count": 5,
   "id": "739efdb5-6e41-4891-ab0b-abd2af71fe75",
   "metadata": {},
   "outputs": [
    {
     "name": "stdout",
     "output_type": "stream",
     "text": [
      "Covariance: 45.83, \"Positive covariance; as height increases, weight tends to increase.\"\n"
     ]
    }
   ],
   "source": [
    "print(f\"Covariance: {covariance:.2f}, \\\"{interpretation}\\\"\")"
   ]
  },
  {
   "cell_type": "code",
   "execution_count": null,
   "id": "86166ca5-ef87-4b8a-bf42-533ecb4c8c3b",
   "metadata": {},
   "outputs": [],
   "source": []
  }
 ],
 "metadata": {
  "kernelspec": {
   "display_name": "Python 3 (ipykernel)",
   "language": "python",
   "name": "python3"
  },
  "language_info": {
   "codemirror_mode": {
    "name": "ipython",
    "version": 3
   },
   "file_extension": ".py",
   "mimetype": "text/x-python",
   "name": "python",
   "nbconvert_exporter": "python",
   "pygments_lexer": "ipython3",
   "version": "3.12.4"
  }
 },
 "nbformat": 4,
 "nbformat_minor": 5
}
