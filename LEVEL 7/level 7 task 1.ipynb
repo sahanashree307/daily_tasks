{
 "cells": [
  {
   "cell_type": "code",
   "execution_count": 4,
   "id": "283f685a-f436-46e3-a2e2-cf1cbd32b3bb",
   "metadata": {},
   "outputs": [],
   "source": [
    "import numpy as np\n",
    "import statsmodels.stats.weightstats as st\n"
   ]
  },
  {
   "cell_type": "code",
   "execution_count": 5,
   "id": "7401b78c-aae0-4c8f-9dc7-b725fd1f2019",
   "metadata": {},
   "outputs": [
    {
     "name": "stdout",
     "output_type": "stream",
     "text": [
      "Z-Score: 16.914953224998783\n",
      "P-Value: 3.4909370474554826e-64\n",
      "Reject H0; medication affects IQ, likely increasing it (mean = 140 > 100).\n"
     ]
    }
   ],
   "source": [
    "data = np.random.normal(140, 15, 30)\n",
    "z_score, p_value = st.ztest(data, value=100)\n",
    "print(\"Z-Score:\",z_score)\n",
    "print(\"P-Value:\",p_value)\n",
    "alpha = 0.05\n",
    "if p_value < alpha:\n",
    "    print(\"Reject H0; medication affects IQ, likely increasing it (mean = 140 > 100).\")\n",
    "else:\n",
    "    print(\"Fail to reject H0; no significant effect on IQ.\")"
   ]
  },
  {
   "cell_type": "code",
   "execution_count": null,
   "id": "db688a9f-3ca7-46b6-a4d2-629231ebf472",
   "metadata": {},
   "outputs": [],
   "source": []
  }
 ],
 "metadata": {
  "kernelspec": {
   "display_name": "Python 3 (ipykernel)",
   "language": "python",
   "name": "python3"
  },
  "language_info": {
   "codemirror_mode": {
    "name": "ipython",
    "version": 3
   },
   "file_extension": ".py",
   "mimetype": "text/x-python",
   "name": "python",
   "nbconvert_exporter": "python",
   "pygments_lexer": "ipython3",
   "version": "3.12.4"
  }
 },
 "nbformat": 4,
 "nbformat_minor": 5
}
