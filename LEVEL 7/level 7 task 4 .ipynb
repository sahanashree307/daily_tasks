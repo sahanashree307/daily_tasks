{
 "cells": [
  {
   "cell_type": "code",
   "execution_count": 1,
   "id": "81761a6b-6b20-4c8a-bf4c-981484590e68",
   "metadata": {},
   "outputs": [],
   "source": [
    "import scipy.stats as stat"
   ]
  },
  {
   "cell_type": "code",
   "execution_count": 4,
   "id": "7ad0f718-5b18-4dba-972d-8e3169bafc5f",
   "metadata": {},
   "outputs": [
    {
     "name": "stdout",
     "output_type": "stream",
     "text": [
      "[121, 288, 91] [100, 150, 250]\n"
     ]
    }
   ],
   "source": [
    "observed = [121, 288, 91]  \n",
    "expected = [100, 150, 250]  \n",
    "print(observed,expected)"
   ]
  },
  {
   "cell_type": "code",
   "execution_count": 5,
   "id": "626e0ccd-db35-4abd-b687-678cde783252",
   "metadata": {},
   "outputs": [
    {
     "data": {
      "application/javascript": [
       "\n",
       "        if (window._pyforest_update_imports_cell) { window._pyforest_update_imports_cell('from scipy import stats'); }\n",
       "    "
      ],
      "text/plain": [
       "<IPython.core.display.Javascript object>"
      ]
     },
     "metadata": {},
     "output_type": "display_data"
    },
    {
     "name": "stdout",
     "output_type": "stream",
     "text": [
      "Chi-square statistic ≈ 232.49, p < 0.05, Reject H0; age distribution changed.\n"
     ]
    }
   ],
   "source": [
    "chi_square_statistic, p_value = stats.chisquare(observed, expected)\n",
    "alpha = 0.05\n",
    "if p_value < alpha:\n",
    "    result = \"Reject H0; age distribution changed.\"\n",
    "else:\n",
    "    result = \"Fail to reject H0; distribution unchanged.\"\n",
    "print(f\"Chi-square statistic ≈ {chi_square_statistic:.2f}, p < {alpha}, {result}\")"
   ]
  },
  {
   "cell_type": "code",
   "execution_count": null,
   "id": "31bba4ed-a681-48ae-a9cc-d10e24a9a768",
   "metadata": {},
   "outputs": [],
   "source": []
  }
 ],
 "metadata": {
  "kernelspec": {
   "display_name": "Python 3 (ipykernel)",
   "language": "python",
   "name": "python3"
  },
  "language_info": {
   "codemirror_mode": {
    "name": "ipython",
    "version": 3
   },
   "file_extension": ".py",
   "mimetype": "text/x-python",
   "name": "python",
   "nbconvert_exporter": "python",
   "pygments_lexer": "ipython3",
   "version": "3.12.4"
  }
 },
 "nbformat": 4,
 "nbformat_minor": 5
}
