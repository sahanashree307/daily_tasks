{
 "cells": [
  {
   "cell_type": "code",
   "execution_count": 1,
   "id": "ad3a63e1-df6c-433f-8e71-134e9872ff2c",
   "metadata": {},
   "outputs": [],
   "source": [
    "import scipy.stats as stats"
   ]
  },
  {
   "cell_type": "code",
   "execution_count": 2,
   "id": "af849199-1a4c-40be-a207-e9a7c5d2a1a1",
   "metadata": {},
   "outputs": [],
   "source": [
    "height = [160, 170, 180, 175]\n",
    "weight = [60, 70, 75, 65]"
   ]
  },
  {
   "cell_type": "code",
   "execution_count": 3,
   "id": "ba2433ca-3721-4405-bf94-02443ab0ce0b",
   "metadata": {},
   "outputs": [],
   "source": [
    "pearson_corr, pearson_p_value = stats.pearsonr(height, weight)\n",
    "spearman_corr, spearman_p_value = stats.spearmanr(height, weight)"
   ]
  },
  {
   "cell_type": "code",
   "execution_count": 4,
   "id": "93c74f3e-e678-41b2-ac95-b73e0e1338a4",
   "metadata": {},
   "outputs": [
    {
     "name": "stdout",
     "output_type": "stream",
     "text": [
      "Pearson correlation: 0.83 (p-value: 0.168)\n",
      "Spearman correlation: 0.80 (p-value: 0.200)\n"
     ]
    }
   ],
   "source": [
    "print(f\"Pearson correlation: {pearson_corr:.2f} (p-value: {pearson_p_value:.3f})\")\n",
    "print(f\"Spearman correlation: {spearman_corr:.2f} (p-value: {spearman_p_value:.3f})\")"
   ]
  },
  {
   "cell_type": "code",
   "execution_count": null,
   "id": "f77644f3-22d5-4a18-9bf4-e317c0d36bbe",
   "metadata": {},
   "outputs": [],
   "source": []
  }
 ],
 "metadata": {
  "kernelspec": {
   "display_name": "Python 3 (ipykernel)",
   "language": "python",
   "name": "python3"
  },
  "language_info": {
   "codemirror_mode": {
    "name": "ipython",
    "version": 3
   },
   "file_extension": ".py",
   "mimetype": "text/x-python",
   "name": "python",
   "nbconvert_exporter": "python",
   "pygments_lexer": "ipython3",
   "version": "3.12.4"
  }
 },
 "nbformat": 4,
 "nbformat_minor": 5
}
