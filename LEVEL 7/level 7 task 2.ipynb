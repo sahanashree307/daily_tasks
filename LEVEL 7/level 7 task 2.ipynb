{
 "cells": [
  {
   "cell_type": "code",
   "execution_count": 2,
   "id": "b90786bc-4d1a-4cdb-b87b-2d6d525656e4",
   "metadata": {},
   "outputs": [],
   "source": [
    "import numpy as np\n",
    "import statsmodels.stats.weightstats as st\n"
   ]
  },
  {
   "cell_type": "code",
   "execution_count": 3,
   "id": "2ff8cdaf-c2d6-4c9b-9628-4bed3daecb22",
   "metadata": {},
   "outputs": [],
   "source": [
    "traditional_mean = 75\n",
    "traditional_std = 10\n",
    "traditional_n = 40\n",
    "new_mean = 82\n",
    "new_std = 12\n",
    "new_n = 35 \n",
    "traditional_scores = np.random.normal(traditional_mean, traditional_std, traditional_n)\n",
    "new_method_scores = np.random.normal(new_mean, new_std, new_n)"
   ]
  },
  {
   "cell_type": "code",
   "execution_count": 6,
   "id": "f35312b0-b78a-4658-9cb7-6097dcedf1d6",
   "metadata": {},
   "outputs": [
    {
     "name": "stdout",
     "output_type": "stream",
     "text": [
      "Z-score: 3.03447965774098 p-value: 0.0012047550210724023\n",
      "Reject H0: The new teaching method significantly increases test scores.\n"
     ]
    }
   ],
   "source": [
    "z_score, p_value = st.ztest(new_method_scores, traditional_scores, alternative='larger')\n",
    "print(\"Z-score:\" ,z_score, \"p-value:\" ,p_value)\n",
    "alpha = 0.05\n",
    "if p_value < alpha:\n",
    "    print(\"Reject H0: The new teaching method significantly increases test scores.\")\n",
    "else:\n",
    "    print(\"Fail to reject H0: There is no strong evidence that the new method improves scores.\")"
   ]
  },
  {
   "cell_type": "code",
   "execution_count": null,
   "id": "ab206651-bb9a-4cd1-b92b-2278b4a3bb3a",
   "metadata": {},
   "outputs": [],
   "source": []
  }
 ],
 "metadata": {
  "kernelspec": {
   "display_name": "Python 3 (ipykernel)",
   "language": "python",
   "name": "python3"
  },
  "language_info": {
   "codemirror_mode": {
    "name": "ipython",
    "version": 3
   },
   "file_extension": ".py",
   "mimetype": "text/x-python",
   "name": "python",
   "nbconvert_exporter": "python",
   "pygments_lexer": "ipython3",
   "version": "3.12.4"
  }
 },
 "nbformat": 4,
 "nbformat_minor": 5
}
