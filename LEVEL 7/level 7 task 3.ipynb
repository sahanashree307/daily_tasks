{
 "cells": [
  {
   "cell_type": "code",
   "execution_count": 2,
   "id": "114a1fa8-de2e-4453-b76a-6fe57d6d6849",
   "metadata": {},
   "outputs": [],
   "source": [
    "import numpy as np\n",
    "import scipy.stats as stats"
   ]
  },
  {
   "cell_type": "code",
   "execution_count": 7,
   "id": "58b35632-0cc5-4721-8a0e-8eac5f208f25",
   "metadata": {},
   "outputs": [],
   "source": [
    "data = np.random.normal(140, 20, 30)"
   ]
  },
  {
   "cell_type": "code",
   "execution_count": 8,
   "id": "fdf79719-bdf3-4bb0-a497-f92afbd9d766",
   "metadata": {},
   "outputs": [],
   "source": [
    "t_statistic, p_value = stats.ttest_1samp(data, popmean=100)"
   ]
  },
  {
   "cell_type": "code",
   "execution_count": 9,
   "id": "1d800ed8-52d1-42bc-a54c-ae31de9c6654",
   "metadata": {},
   "outputs": [],
   "source": [
    "alpha = 0.05\n",
    "if p_value < alpha:\n",
    "    result = \"Reject H0; medication increases IQ (mean = 140 > 100).\"\n",
    "else:\n",
    "    result = \"Fail to reject H0.\""
   ]
  },
  {
   "cell_type": "code",
   "execution_count": 16,
   "id": "3a3f3297-7622-45e6-b0a6-cf118e2274ed",
   "metadata": {},
   "outputs": [
    {
     "name": "stdout",
     "output_type": "stream",
     "text": [
      "T= 10.247516974014088 p = 3.778893439101579e-11 Reject H0; medication increases IQ (mean = 140 > 100).\n"
     ]
    }
   ],
   "source": [
    "print(\"T=\", t_statistic, \"p =\",p_value, result)"
   ]
  },
  {
   "cell_type": "code",
   "execution_count": null,
   "id": "361eff75-0ea4-4c96-876e-b45b731af53b",
   "metadata": {},
   "outputs": [],
   "source": []
  }
 ],
 "metadata": {
  "kernelspec": {
   "display_name": "Python 3 (ipykernel)",
   "language": "python",
   "name": "python3"
  },
  "language_info": {
   "codemirror_mode": {
    "name": "ipython",
    "version": 3
   },
   "file_extension": ".py",
   "mimetype": "text/x-python",
   "name": "python",
   "nbconvert_exporter": "python",
   "pygments_lexer": "ipython3",
   "version": "3.12.4"
  }
 },
 "nbformat": 4,
 "nbformat_minor": 5
}
