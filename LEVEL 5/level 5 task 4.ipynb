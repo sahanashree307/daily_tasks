{
 "cells": [
  {
   "cell_type": "code",
   "execution_count": 4,
   "id": "ddc607ab-7eb7-40ff-9645-08daff92af8d",
   "metadata": {},
   "outputs": [],
   "source": [
    "import pandas as pd\n",
    "import threading\n",
    "import logging"
   ]
  },
  {
   "cell_type": "code",
   "execution_count": 19,
   "id": "f67d1606-7417-49a8-93c3-3ecef9336a81",
   "metadata": {},
   "outputs": [],
   "source": [
    "def configure_logging():\n",
    "    logging.basicConfig(filename=\"processing.log\",level=logging.INFO,format=\"%(asctime)s - %(levelname)s - %(message)s\")"
   ]
  },
  {
   "cell_type": "code",
   "execution_count": 20,
   "id": "7c048958-148b-4185-a461-9bf0dca97bbe",
   "metadata": {},
   "outputs": [],
   "source": [
    "def process_csv(file_path):\n",
    "    logging.info(f\"Starting processing: {file_path}\")\n",
    "    df = pd.read_csv(file_path)\n",
    "    mean_value = df['num_value'].mean()\n",
    "    print(f\"Mean of value in {file_path}: {mean_value}\")\n",
    "    logging.info(f\"Finished processing: {file_path} with mean {mean_value}\")"
   ]
  },
  {
   "cell_type": "code",
   "execution_count": 21,
   "id": "74e6312c-d71e-44fa-98fc-65f15920b852",
   "metadata": {},
   "outputs": [],
   "source": [
    "def create_csv():\n",
    "    pd.DataFrame({\"num_value\": [14, 22, 34, 45, 50]}).to_csv(\"data1.csv\", index=False)\n",
    "    pd.DataFrame({\"num_value\": [51, 25, 65, 35, 35]}).to_csv(\"data2.csv\", index=False)"
   ]
  },
  {
   "cell_type": "code",
   "execution_count": 22,
   "id": "774021fd-e5a3-400b-bfd8-4b8a97bf7b63",
   "metadata": {},
   "outputs": [
    {
     "name": "stdout",
     "output_type": "stream",
     "text": [
      "Mean of value in data1.csv: 33.0\n",
      "Mean of value in data2.csv: 42.2\n",
      "Processing complete\n"
     ]
    }
   ],
   "source": [
    "def main():\n",
    "    configure_logging()\n",
    "    create_csv()\n",
    "    \n",
    "    thread1 = threading.Thread(target=process_csv, args=(\"data1.csv\",))\n",
    "    thread2 = threading.Thread(target=process_csv, args=(\"data2.csv\",))\n",
    "    \n",
    "    thread1.start()\n",
    "    thread2.start()\n",
    "    \n",
    "    thread1.join()\n",
    "    thread2.join()\n",
    "    \n",
    "    print(\"Processing complete\")\n",
    "\n",
    "if __name__ == \"__main__\":\n",
    "    main()"
   ]
  },
  {
   "cell_type": "code",
   "execution_count": null,
   "id": "83807305-92d6-4ebe-b5f4-6f617980462c",
   "metadata": {},
   "outputs": [],
   "source": []
  }
 ],
 "metadata": {
  "kernelspec": {
   "display_name": "Python 3 (ipykernel)",
   "language": "python",
   "name": "python3"
  },
  "language_info": {
   "codemirror_mode": {
    "name": "ipython",
    "version": 3
   },
   "file_extension": ".py",
   "mimetype": "text/x-python",
   "name": "python",
   "nbconvert_exporter": "python",
   "pygments_lexer": "ipython3",
   "version": "3.12.4"
  }
 },
 "nbformat": 4,
 "nbformat_minor": 5
}
