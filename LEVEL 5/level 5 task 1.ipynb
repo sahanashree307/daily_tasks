{
 "cells": [
  {
   "cell_type": "code",
   "execution_count": 4,
   "id": "2144c518-4d5d-4af9-898b-e586e10c7026",
   "metadata": {
    "scrolled": true
   },
   "outputs": [],
   "source": [
    "income_sources={\"salary\" :3000 ,\"freelance\" :4000 ,\"stock_market\":300}\n",
    "expense_categories= {\"rent\":1500, \"food\":500 ,\"groceries\":800}\n",
    "\n",
    "                     "
   ]
  },
  {
   "cell_type": "code",
   "execution_count": 14,
   "id": "2c3c6a51-62e3-4631-8b7a-df66529be47c",
   "metadata": {},
   "outputs": [],
   "source": [
    "def calculate_total_income(income_dict):\n",
    "    return sum(income_sources.values())\n",
    "\n",
    "\n",
    "def calculate_total_expenses(expense_dict):\n",
    "    return sum(expense_categories.values())\n",
    "\n"
   ]
  },
  {
   "cell_type": "code",
   "execution_count": 15,
   "id": "5e40e3d7-d372-4692-ba65-b2c181a29541",
   "metadata": {},
   "outputs": [],
   "source": [
    "total_income=calculate_total_income(income_sources)\n",
    "total_expense=calculate_total_expenses(expense_categories)\n"
   ]
  },
  {
   "cell_type": "code",
   "execution_count": 16,
   "id": "f2985c75-e29e-424b-83e3-129642a0faf1",
   "metadata": {},
   "outputs": [],
   "source": [
    "balance=total_income-total_expenses"
   ]
  },
  {
   "cell_type": "code",
   "execution_count": 18,
   "id": "9aefa88a-93f0-4a6b-9370-3c218216c352",
   "metadata": {},
   "outputs": [
    {
     "name": "stdout",
     "output_type": "stream",
     "text": [
      "income: 7300\n",
      "expenses: 2050\n",
      "balance: 5250\n"
     ]
    }
   ],
   "source": [
    "print(\"income:\",total_income)\n",
    "print(\"expenses:\",total_expenses)\n",
    "print(\"balance:\",balance)"
   ]
  },
  {
   "cell_type": "code",
   "execution_count": null,
   "id": "3cb6b34e-d58c-4df5-bd44-a9197a0f9ae9",
   "metadata": {},
   "outputs": [],
   "source": []
  }
 ],
 "metadata": {
  "kernelspec": {
   "display_name": "Python 3 (ipykernel)",
   "language": "python",
   "name": "python3"
  },
  "language_info": {
   "codemirror_mode": {
    "name": "ipython",
    "version": 3
   },
   "file_extension": ".py",
   "mimetype": "text/x-python",
   "name": "python",
   "nbconvert_exporter": "python",
   "pygments_lexer": "ipython3",
   "version": "3.12.4"
  }
 },
 "nbformat": 4,
 "nbformat_minor": 5
}
