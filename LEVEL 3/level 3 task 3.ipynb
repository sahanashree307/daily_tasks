{
 "cells": [
  {
   "cell_type": "code",
   "execution_count": 1,
   "id": "585d09b1-da0e-4992-90f2-773a7d740d8a",
   "metadata": {},
   "outputs": [],
   "source": [
    "#task 3\n",
    "#decorator\n",
    "import time\n"
   ]
  },
  {
   "cell_type": "code",
   "execution_count": 18,
   "id": "1e048cf6-e372-4863-abfa-eeac4d85e763",
   "metadata": {},
   "outputs": [],
   "source": [
    "def time_dec(func):\n",
    "    def wrapper():\n",
    "        start_time=time.time()\n",
    "        func()\n",
    "        elapsed_time=time.time()-start_time\n",
    "        print(\"Elapsed_time~:\",elapsed_time)\n",
    "    return wrapper\n",
    "@time_dec\n",
    "def paused_time_sec():\n",
    "    time.sleep(1)\n",
    "\n",
    "        "
   ]
  },
  {
   "cell_type": "code",
   "execution_count": 19,
   "id": "5490741b-fb59-47c9-8fc6-9b1bc2c4943b",
   "metadata": {},
   "outputs": [
    {
     "name": "stdout",
     "output_type": "stream",
     "text": [
      "Elapsed_time~: 1.0005524158477783\n"
     ]
    }
   ],
   "source": [
    "paused_time_sec()"
   ]
  },
  {
   "cell_type": "code",
   "execution_count": null,
   "id": "5efdcf28-d973-40e9-9e89-a40135b4f251",
   "metadata": {},
   "outputs": [],
   "source": []
  }
 ],
 "metadata": {
  "kernelspec": {
   "display_name": "Python 3 (ipykernel)",
   "language": "python",
   "name": "python3"
  },
  "language_info": {
   "codemirror_mode": {
    "name": "ipython",
    "version": 3
   },
   "file_extension": ".py",
   "mimetype": "text/x-python",
   "name": "python",
   "nbconvert_exporter": "python",
   "pygments_lexer": "ipython3",
   "version": "3.12.4"
  }
 },
 "nbformat": 4,
 "nbformat_minor": 5
}
