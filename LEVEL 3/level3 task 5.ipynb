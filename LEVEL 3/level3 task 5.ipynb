{
 "cells": [
  {
   "cell_type": "code",
   "execution_count": 2,
   "id": "4f262a62-5264-4e5d-b808-5af9322e1002",
   "metadata": {},
   "outputs": [],
   "source": [
    "import copy"
   ]
  },
  {
   "cell_type": "code",
   "execution_count": 22,
   "id": "ebe9b158-3d60-4025-b4aa-0d5256e7aa67",
   "metadata": {},
   "outputs": [],
   "source": [
    "lst_1=[[9,2],[3,4]]\n",
    "lst_2=lst_1.copy()"
   ]
  },
  {
   "cell_type": "code",
   "execution_count": 23,
   "id": "413c2949-fa35-404f-a945-e2e9e4374d8a",
   "metadata": {},
   "outputs": [
    {
     "data": {
      "text/plain": [
       "([[9, 2], [3, 4]], [[9, 2], [3, 4]])"
      ]
     },
     "execution_count": 23,
     "metadata": {},
     "output_type": "execute_result"
    }
   ],
   "source": [
    "lst_1,lst_2"
   ]
  },
  {
   "cell_type": "code",
   "execution_count": 24,
   "id": "e44f4b1a-32ca-4f5d-91d9-2980d4db127c",
   "metadata": {},
   "outputs": [
    {
     "data": {
      "text/plain": [
       "[[9, 2], [3, 4]]"
      ]
     },
     "execution_count": 24,
     "metadata": {},
     "output_type": "execute_result"
    }
   ],
   "source": [
    "lst_3=copy.deepcopy(lst_1)\n",
    "lst_3"
   ]
  },
  {
   "cell_type": "code",
   "execution_count": 25,
   "id": "e8441e16-e11b-412e-99e3-ed2cc12b04c3",
   "metadata": {},
   "outputs": [],
   "source": [
    "lst_3[0][0]=8"
   ]
  },
  {
   "cell_type": "code",
   "execution_count": 26,
   "id": "631b9cd6-50aa-4c23-8baf-b9ad321e00bc",
   "metadata": {},
   "outputs": [
    {
     "data": {
      "text/plain": [
       "[[8, 2], [3, 4]]"
      ]
     },
     "execution_count": 26,
     "metadata": {},
     "output_type": "execute_result"
    }
   ],
   "source": [
    "lst_3"
   ]
  },
  {
   "cell_type": "code",
   "execution_count": 27,
   "id": "1692d8b5-5849-4e21-ae78-ede5b7b32c82",
   "metadata": {},
   "outputs": [
    {
     "data": {
      "text/plain": [
       "([[9, 2], [3, 4]], [[9, 2], [3, 4]], [[8, 2], [3, 4]])"
      ]
     },
     "execution_count": 27,
     "metadata": {},
     "output_type": "execute_result"
    }
   ],
   "source": [
    "lst_1,lst_2,lst_3"
   ]
  },
  {
   "cell_type": "code",
   "execution_count": null,
   "id": "b6abbf7a-daba-4f27-864c-e121b64a59c0",
   "metadata": {},
   "outputs": [],
   "source": []
  }
 ],
 "metadata": {
  "kernelspec": {
   "display_name": "Python 3 (ipykernel)",
   "language": "python",
   "name": "python3"
  },
  "language_info": {
   "codemirror_mode": {
    "name": "ipython",
    "version": 3
   },
   "file_extension": ".py",
   "mimetype": "text/x-python",
   "name": "python",
   "nbconvert_exporter": "python",
   "pygments_lexer": "ipython3",
   "version": "3.12.4"
  }
 },
 "nbformat": 4,
 "nbformat_minor": 5
}
