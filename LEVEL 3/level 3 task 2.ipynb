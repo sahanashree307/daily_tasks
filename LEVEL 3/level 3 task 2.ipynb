{
 "cells": [
  {
   "cell_type": "code",
   "execution_count": 1,
   "id": "1976a7cf-b6db-45a4-8c6b-6b9c0e36b8f7",
   "metadata": {},
   "outputs": [
    {
     "name": "stdout",
     "output_type": "stream",
     "text": [
      "woof\n"
     ]
    }
   ],
   "source": [
    "#task 3\n",
    "#basic class with inheritance\n",
    "class animal:\n",
    "    def sound(self):\n",
    "        return \"the sound of the animal\"\n",
    "\n",
    "class dog(animal):\n",
    "    def sound(self):\n",
    "        return \"woof\"\n",
    "\n",
    "dog_instance=dog()\n",
    "result=dog_instance.sound()\n",
    "print(result)"
   ]
  }
 ],
 "metadata": {
  "kernelspec": {
   "display_name": "Python 3 (ipykernel)",
   "language": "python",
   "name": "python3"
  },
  "language_info": {
   "codemirror_mode": {
    "name": "ipython",
    "version": 3
   },
   "file_extension": ".py",
   "mimetype": "text/x-python",
   "name": "python",
   "nbconvert_exporter": "python",
   "pygments_lexer": "ipython3",
   "version": "3.12.4"
  }
 },
 "nbformat": 4,
 "nbformat_minor": 5
}
