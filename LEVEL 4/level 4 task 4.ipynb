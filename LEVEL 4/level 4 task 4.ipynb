{
 "cells": [
  {
   "cell_type": "code",
   "execution_count": 14,
   "id": "7521ec23-32a6-4088-b02c-079f84e583f5",
   "metadata": {},
   "outputs": [],
   "source": [
    "import logging"
   ]
  },
  {
   "cell_type": "code",
   "execution_count": 15,
   "id": "1885cab8-5221-455a-948b-d7804da0a14a",
   "metadata": {},
   "outputs": [],
   "source": [
    "logger = logging.getLogger()\n",
    "logger.setLevel(logging.INFO)"
   ]
  },
  {
   "cell_type": "code",
   "execution_count": 16,
   "id": "0bba71af-cc24-4691-bd73-600616efddeb",
   "metadata": {},
   "outputs": [],
   "source": [
    "file_handler = logging.FileHandler('app.log')\n",
    "file_handler.setLevel(logging.INFO)\n"
   ]
  },
  {
   "cell_type": "code",
   "execution_count": 17,
   "id": "bd3c8819-7bac-4803-829f-dfd459f9395d",
   "metadata": {},
   "outputs": [],
   "source": [
    "console_handler = logging.StreamHandler()\n",
    "console_handler.setLevel(logging.INFO)\n"
   ]
  },
  {
   "cell_type": "code",
   "execution_count": 18,
   "id": "bfbaf821-da5e-4946-b385-eab57e573528",
   "metadata": {},
   "outputs": [],
   "source": [
    "formatter = logging.Formatter('%(asctime)s - %(levelname)s - %(message)s')\n",
    "file_handler.setFormatter(formatter)\n",
    "console_handler.setFormatter(formatter)\n"
   ]
  },
  {
   "cell_type": "code",
   "execution_count": 19,
   "id": "f06c53eb-e67f-4416-ac46-8d33eb48aded",
   "metadata": {},
   "outputs": [],
   "source": [
    "logger.addHandler(file_handler)\n",
    "logger.addHandler(console_handler)\n"
   ]
  },
  {
   "cell_type": "code",
   "execution_count": 20,
   "id": "e21a5ff4-99ed-424b-89f0-ea9f25636ee8",
   "metadata": {},
   "outputs": [
    {
     "name": "stderr",
     "output_type": "stream",
     "text": [
      "2025-03-30 22:45:05,423 - INFO - Script has started.\n",
      "2025-03-30 22:45:05,423 - INFO - Script has started.\n",
      "2025-03-30 22:45:05,423 - INFO - Script has started.\n",
      "2025-03-30 22:45:05,428 - INFO - Task has completed.\n",
      "2025-03-30 22:45:05,428 - INFO - Task has completed.\n",
      "2025-03-30 22:45:05,428 - INFO - Task has completed.\n"
     ]
    }
   ],
   "source": [
    "logger.info('Script has started.')\n",
    "logger.info('Task has completed.')"
   ]
  },
  {
   "cell_type": "code",
   "execution_count": null,
   "id": "872eb1e8-8074-4777-83e2-cb5143748003",
   "metadata": {},
   "outputs": [],
   "source": []
  }
 ],
 "metadata": {
  "kernelspec": {
   "display_name": "Python 3 (ipykernel)",
   "language": "python",
   "name": "python3"
  },
  "language_info": {
   "codemirror_mode": {
    "name": "ipython",
    "version": 3
   },
   "file_extension": ".py",
   "mimetype": "text/x-python",
   "name": "python",
   "nbconvert_exporter": "python",
   "pygments_lexer": "ipython3",
   "version": "3.12.4"
  }
 },
 "nbformat": 4,
 "nbformat_minor": 5
}
