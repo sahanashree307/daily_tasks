{
 "cells": [
  {
   "cell_type": "code",
   "execution_count": 4,
   "id": "4d0f41ac-af0e-4696-ade0-22400db3e88a",
   "metadata": {},
   "outputs": [],
   "source": [
    "import threading"
   ]
  },
  {
   "cell_type": "code",
   "execution_count": 5,
   "id": "50d2cf63-2f10-4f92-9027-9d416268c51b",
   "metadata": {},
   "outputs": [
    {
     "name": "stdout",
     "output_type": "stream",
     "text": [
      "[1, 2, 3]['A', 'B', 'C']\n",
      "\n"
     ]
    }
   ],
   "source": [
    "def numbers():\n",
    "    numbers = [1, 2, 3]\n",
    "    print(numbers)\n",
    "def letters():\n",
    "    letters = [\"A\", \"B\", \"C\"]\n",
    "    print(letters)\n",
    "thread1 = threading.Thread(target=numbers)\n",
    "thread2 = threading.Thread(target=letters)\n",
    "thread1.start()\n",
    "thread2.start()\n",
    "thread1.join()\n",
    "thread2.join()"
   ]
  },
  {
   "cell_type": "code",
   "execution_count": null,
   "id": "638e147b-ea71-4876-bade-118421c15e49",
   "metadata": {},
   "outputs": [],
   "source": []
  }
 ],
 "metadata": {
  "kernelspec": {
   "display_name": "Python 3 (ipykernel)",
   "language": "python",
   "name": "python3"
  },
  "language_info": {
   "codemirror_mode": {
    "name": "ipython",
    "version": 3
   },
   "file_extension": ".py",
   "mimetype": "text/x-python",
   "name": "python",
   "nbconvert_exporter": "python",
   "pygments_lexer": "ipython3",
   "version": "3.12.4"
  }
 },
 "nbformat": 4,
 "nbformat_minor": 5
}
