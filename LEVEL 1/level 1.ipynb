{
 "cells": [
  {
   "cell_type": "code",
   "execution_count": 7,
   "id": "652eef90-9e5a-40bf-867b-f38236dc6cf5",
   "metadata": {},
   "outputs": [
    {
     "name": "stdout",
     "output_type": "stream",
     "text": [
      "Hello, Python!\n"
     ]
    }
   ],
   "source": [
    "#task 1\n",
    "print(\"Hello, Python!\")"
   ]
  },
  {
   "cell_type": "code",
   "execution_count": 8,
   "id": "4cc3d5fb-cbd8-41db-8740-5df1c045f37d",
   "metadata": {},
   "outputs": [
    {
     "name": "stdout",
     "output_type": "stream",
     "text": [
      "5 + 3 = 8\n"
     ]
    }
   ],
   "source": [
    "#task 2\n",
    "print(\"5 + 3 =\", 5 + 3)"
   ]
  },
  {
   "cell_type": "code",
   "execution_count": 3,
   "id": "352e7ebe-4040-4618-8ed7-50ca55923649",
   "metadata": {},
   "outputs": [
    {
     "name": "stdout",
     "output_type": "stream",
     "text": [
      "[1, 2, 3, 4]\n"
     ]
    }
   ],
   "source": []
  },
  {
   "cell_type": "code",
   "execution_count": 13,
   "id": "eb50687a-9e1d-4ec1-8407-a5db96846d53",
   "metadata": {},
   "outputs": [
    {
     "name": "stdout",
     "output_type": "stream",
     "text": [
      "[1, 2, 3, 4]\n",
      "{2, 4, 6}\n",
      "(1, 3, 5)\n",
      "{'a': '1', 'b': '2', 'c': '3'}\n"
     ]
    }
   ],
   "source": [
    "#task 2\n",
    "list=[1,2,3]\n",
    "list.append(4)\n",
    "print(list)\n",
    "set={2,4,6}\n",
    "print(set)\n",
    "tuple=(1,3,5)\n",
    "print(tuple)\n",
    "dict={\"a\":\"1\",\"b\":\"2\"}\n",
    "dict['c']='3'\n",
    "print(dict)\n"
   ]
  },
  {
   "cell_type": "code",
   "execution_count": 33,
   "id": "351d9efa-425e-45b1-80d5-7781d20a51ee",
   "metadata": {},
   "outputs": [
    {
     "name": "stdout",
     "output_type": "stream",
     "text": [
      "Mean: 5.5\n",
      "Min: 1\n",
      "Max: 10\n"
     ]
    }
   ],
   "source": [
    "import numpy as np\n",
    "arr=np.array([1,2,3,4,5,6,7,8,9,10])\n",
    "mean=sum(arr)/len(arr)\n",
    "print(\"Mean:\",mean)\n",
    "min_value=min(arr)\n",
    "max_value=max(arr)\n",
    "print(\"Min:\",min_value)\n",
    "print(\"Max:\",max_value)\n"
   ]
  },
  {
   "cell_type": "code",
   "execution_count": 38,
   "id": "9efefb79-065b-4ebe-b5e4-db4a7fbd7f4b",
   "metadata": {},
   "outputs": [
    {
     "data": {
      "text/html": [
       "<div>\n",
       "<style scoped>\n",
       "    .dataframe tbody tr th:only-of-type {\n",
       "        vertical-align: middle;\n",
       "    }\n",
       "\n",
       "    .dataframe tbody tr th {\n",
       "        vertical-align: top;\n",
       "    }\n",
       "\n",
       "    .dataframe thead th {\n",
       "        text-align: right;\n",
       "    }\n",
       "</style>\n",
       "<table border=\"1\" class=\"dataframe\">\n",
       "  <thead>\n",
       "    <tr style=\"text-align: right;\">\n",
       "      <th></th>\n",
       "      <th>Index</th>\n",
       "      <th>Customer Id</th>\n",
       "      <th>First Name</th>\n",
       "      <th>Last Name</th>\n",
       "      <th>Company</th>\n",
       "      <th>City</th>\n",
       "      <th>Country</th>\n",
       "      <th>Phone 1</th>\n",
       "      <th>Phone 2</th>\n",
       "      <th>Email</th>\n",
       "      <th>Subscription Date</th>\n",
       "      <th>Website</th>\n",
       "    </tr>\n",
       "  </thead>\n",
       "  <tbody>\n",
       "    <tr>\n",
       "      <th>0</th>\n",
       "      <td>1</td>\n",
       "      <td>DD37Cf93aecA6Dc</td>\n",
       "      <td>Sheryl</td>\n",
       "      <td>Baxter</td>\n",
       "      <td>Rasmussen Group</td>\n",
       "      <td>East Leonard</td>\n",
       "      <td>Chile</td>\n",
       "      <td>229.077.5154</td>\n",
       "      <td>397.884.0519x718</td>\n",
       "      <td>zunigavanessa@smith.info</td>\n",
       "      <td>2020-08-24</td>\n",
       "      <td>http://www.stephenson.com/</td>\n",
       "    </tr>\n",
       "    <tr>\n",
       "      <th>1</th>\n",
       "      <td>2</td>\n",
       "      <td>1Ef7b82A4CAAD10</td>\n",
       "      <td>Preston</td>\n",
       "      <td>Lozano</td>\n",
       "      <td>Vega-Gentry</td>\n",
       "      <td>East Jimmychester</td>\n",
       "      <td>Djibouti</td>\n",
       "      <td>5153435776</td>\n",
       "      <td>686-620-1820x944</td>\n",
       "      <td>vmata@colon.com</td>\n",
       "      <td>2021-04-23</td>\n",
       "      <td>http://www.hobbs.com/</td>\n",
       "    </tr>\n",
       "    <tr>\n",
       "      <th>2</th>\n",
       "      <td>3</td>\n",
       "      <td>6F94879bDAfE5a6</td>\n",
       "      <td>Roy</td>\n",
       "      <td>Berry</td>\n",
       "      <td>Murillo-Perry</td>\n",
       "      <td>Isabelborough</td>\n",
       "      <td>Antigua and Barbuda</td>\n",
       "      <td>+1-539-402-0259</td>\n",
       "      <td>(496)978-3969x58947</td>\n",
       "      <td>beckycarr@hogan.com</td>\n",
       "      <td>2020-03-25</td>\n",
       "      <td>http://www.lawrence.com/</td>\n",
       "    </tr>\n",
       "    <tr>\n",
       "      <th>3</th>\n",
       "      <td>4</td>\n",
       "      <td>5Cef8BFA16c5e3c</td>\n",
       "      <td>Linda</td>\n",
       "      <td>Olsen</td>\n",
       "      <td>Dominguez, Mcmillan and Donovan</td>\n",
       "      <td>Bensonview</td>\n",
       "      <td>Dominican Republic</td>\n",
       "      <td>001-808-617-6467x12895</td>\n",
       "      <td>+1-813-324-8756</td>\n",
       "      <td>stanleyblackwell@benson.org</td>\n",
       "      <td>2020-06-02</td>\n",
       "      <td>http://www.good-lyons.com/</td>\n",
       "    </tr>\n",
       "    <tr>\n",
       "      <th>4</th>\n",
       "      <td>5</td>\n",
       "      <td>053d585Ab6b3159</td>\n",
       "      <td>Joanna</td>\n",
       "      <td>Bender</td>\n",
       "      <td>Martin, Lang and Andrade</td>\n",
       "      <td>West Priscilla</td>\n",
       "      <td>Slovakia (Slovak Republic)</td>\n",
       "      <td>001-234-203-0635x76146</td>\n",
       "      <td>001-199-446-3860x3486</td>\n",
       "      <td>colinalvarado@miles.net</td>\n",
       "      <td>2021-04-17</td>\n",
       "      <td>https://goodwin-ingram.com/</td>\n",
       "    </tr>\n",
       "    <tr>\n",
       "      <th>...</th>\n",
       "      <td>...</td>\n",
       "      <td>...</td>\n",
       "      <td>...</td>\n",
       "      <td>...</td>\n",
       "      <td>...</td>\n",
       "      <td>...</td>\n",
       "      <td>...</td>\n",
       "      <td>...</td>\n",
       "      <td>...</td>\n",
       "      <td>...</td>\n",
       "      <td>...</td>\n",
       "      <td>...</td>\n",
       "    </tr>\n",
       "    <tr>\n",
       "      <th>95</th>\n",
       "      <td>96</td>\n",
       "      <td>cb8E23e48d22Eae</td>\n",
       "      <td>Karl</td>\n",
       "      <td>Greer</td>\n",
       "      <td>Carey LLC</td>\n",
       "      <td>East Richard</td>\n",
       "      <td>Guyana</td>\n",
       "      <td>(188)169-1674x58692</td>\n",
       "      <td>001-841-293-3519x614</td>\n",
       "      <td>hhart@jensen.com</td>\n",
       "      <td>2022-01-30</td>\n",
       "      <td>http://hayes-perez.com/</td>\n",
       "    </tr>\n",
       "    <tr>\n",
       "      <th>96</th>\n",
       "      <td>97</td>\n",
       "      <td>CeD220bdAaCfaDf</td>\n",
       "      <td>Lynn</td>\n",
       "      <td>Atkinson</td>\n",
       "      <td>Ware, Burns and Oneal</td>\n",
       "      <td>New Bradview</td>\n",
       "      <td>Sri Lanka</td>\n",
       "      <td>+1-846-706-2218</td>\n",
       "      <td>605.413.3198</td>\n",
       "      <td>vkemp@ferrell.com</td>\n",
       "      <td>2021-07-10</td>\n",
       "      <td>https://novak-allison.com/</td>\n",
       "    </tr>\n",
       "    <tr>\n",
       "      <th>97</th>\n",
       "      <td>98</td>\n",
       "      <td>28CDbC0dFe4b1Db</td>\n",
       "      <td>Fred</td>\n",
       "      <td>Guerra</td>\n",
       "      <td>Schmitt-Jones</td>\n",
       "      <td>Ortegaland</td>\n",
       "      <td>Solomon Islands</td>\n",
       "      <td>+1-753-067-8419x7170</td>\n",
       "      <td>+1-632-666-7507x92121</td>\n",
       "      <td>swagner@kane.org</td>\n",
       "      <td>2021-09-18</td>\n",
       "      <td>https://www.ross.com/</td>\n",
       "    </tr>\n",
       "    <tr>\n",
       "      <th>98</th>\n",
       "      <td>99</td>\n",
       "      <td>c23d1D9EE8DEB0A</td>\n",
       "      <td>Yvonne</td>\n",
       "      <td>Farmer</td>\n",
       "      <td>Fitzgerald-Harrell</td>\n",
       "      <td>Lake Elijahview</td>\n",
       "      <td>Aruba</td>\n",
       "      <td>(530)311-9786</td>\n",
       "      <td>001-869-452-0943x12424</td>\n",
       "      <td>mccarthystephen@horn-green.biz</td>\n",
       "      <td>2021-08-11</td>\n",
       "      <td>http://watkins.info/</td>\n",
       "    </tr>\n",
       "    <tr>\n",
       "      <th>99</th>\n",
       "      <td>100</td>\n",
       "      <td>2354a0E336A91A1</td>\n",
       "      <td>Clarence</td>\n",
       "      <td>Haynes</td>\n",
       "      <td>Le, Nash and Cross</td>\n",
       "      <td>Judymouth</td>\n",
       "      <td>Honduras</td>\n",
       "      <td>(753)813-6941</td>\n",
       "      <td>783.639.1472</td>\n",
       "      <td>colleen91@faulkner.biz</td>\n",
       "      <td>2020-03-11</td>\n",
       "      <td>http://www.hatfield-saunders.net/</td>\n",
       "    </tr>\n",
       "  </tbody>\n",
       "</table>\n",
       "<p>100 rows × 12 columns</p>\n",
       "</div>"
      ],
      "text/plain": [
       "    Index      Customer Id First Name Last Name  \\\n",
       "0       1  DD37Cf93aecA6Dc     Sheryl    Baxter   \n",
       "1       2  1Ef7b82A4CAAD10    Preston    Lozano   \n",
       "2       3  6F94879bDAfE5a6        Roy     Berry   \n",
       "3       4  5Cef8BFA16c5e3c      Linda     Olsen   \n",
       "4       5  053d585Ab6b3159     Joanna    Bender   \n",
       "..    ...              ...        ...       ...   \n",
       "95     96  cb8E23e48d22Eae       Karl     Greer   \n",
       "96     97  CeD220bdAaCfaDf       Lynn  Atkinson   \n",
       "97     98  28CDbC0dFe4b1Db       Fred    Guerra   \n",
       "98     99  c23d1D9EE8DEB0A     Yvonne    Farmer   \n",
       "99    100  2354a0E336A91A1   Clarence    Haynes   \n",
       "\n",
       "                            Company               City  \\\n",
       "0                   Rasmussen Group       East Leonard   \n",
       "1                       Vega-Gentry  East Jimmychester   \n",
       "2                     Murillo-Perry      Isabelborough   \n",
       "3   Dominguez, Mcmillan and Donovan         Bensonview   \n",
       "4          Martin, Lang and Andrade     West Priscilla   \n",
       "..                              ...                ...   \n",
       "95                        Carey LLC       East Richard   \n",
       "96            Ware, Burns and Oneal       New Bradview   \n",
       "97                    Schmitt-Jones         Ortegaland   \n",
       "98               Fitzgerald-Harrell    Lake Elijahview   \n",
       "99               Le, Nash and Cross          Judymouth   \n",
       "\n",
       "                       Country                 Phone 1  \\\n",
       "0                        Chile            229.077.5154   \n",
       "1                     Djibouti              5153435776   \n",
       "2          Antigua and Barbuda         +1-539-402-0259   \n",
       "3           Dominican Republic  001-808-617-6467x12895   \n",
       "4   Slovakia (Slovak Republic)  001-234-203-0635x76146   \n",
       "..                         ...                     ...   \n",
       "95                      Guyana     (188)169-1674x58692   \n",
       "96                   Sri Lanka         +1-846-706-2218   \n",
       "97             Solomon Islands    +1-753-067-8419x7170   \n",
       "98                       Aruba           (530)311-9786   \n",
       "99                    Honduras           (753)813-6941   \n",
       "\n",
       "                   Phone 2                           Email Subscription Date  \\\n",
       "0         397.884.0519x718        zunigavanessa@smith.info        2020-08-24   \n",
       "1         686-620-1820x944                 vmata@colon.com        2021-04-23   \n",
       "2      (496)978-3969x58947             beckycarr@hogan.com        2020-03-25   \n",
       "3          +1-813-324-8756     stanleyblackwell@benson.org        2020-06-02   \n",
       "4    001-199-446-3860x3486         colinalvarado@miles.net        2021-04-17   \n",
       "..                     ...                             ...               ...   \n",
       "95    001-841-293-3519x614                hhart@jensen.com        2022-01-30   \n",
       "96            605.413.3198               vkemp@ferrell.com        2021-07-10   \n",
       "97   +1-632-666-7507x92121                swagner@kane.org        2021-09-18   \n",
       "98  001-869-452-0943x12424  mccarthystephen@horn-green.biz        2021-08-11   \n",
       "99            783.639.1472          colleen91@faulkner.biz        2020-03-11   \n",
       "\n",
       "                              Website  \n",
       "0          http://www.stephenson.com/  \n",
       "1               http://www.hobbs.com/  \n",
       "2            http://www.lawrence.com/  \n",
       "3          http://www.good-lyons.com/  \n",
       "4         https://goodwin-ingram.com/  \n",
       "..                                ...  \n",
       "95            http://hayes-perez.com/  \n",
       "96         https://novak-allison.com/  \n",
       "97              https://www.ross.com/  \n",
       "98               http://watkins.info/  \n",
       "99  http://www.hatfield-saunders.net/  \n",
       "\n",
       "[100 rows x 12 columns]"
      ]
     },
     "execution_count": 38,
     "metadata": {},
     "output_type": "execute_result"
    }
   ],
   "source": [
    "#task3\n",
    "#pandas csv load\n",
    "import pandas as pd\n",
    "df=pd.read_csv(r\"C:\\Users\\sahan\\Downloads\\customers-100.csv\")\n",
    "df=df.iloc[5]\n",
    "df"
   ]
  },
  {
   "cell_type": "code",
   "execution_count": 42,
   "id": "812cc7f7-1481-4ba0-9c0c-928891aa7d95",
   "metadata": {},
   "outputs": [
    {
     "name": "stdout",
     "output_type": "stream",
     "text": [
      "Index                 int64\n",
      "Customer Id          object\n",
      "First Name           object\n",
      "Last Name            object\n",
      "Company              object\n",
      "City                 object\n",
      "Country              object\n",
      "Phone 1              object\n",
      "Phone 2              object\n",
      "Email                object\n",
      "Subscription Date    object\n",
      "Website              object\n",
      "dtype: object\n"
     ]
    }
   ],
   "source": [
    "print(df.dtypes)"
   ]
  },
  {
   "cell_type": "code",
   "execution_count": 43,
   "id": "007e1028-8d29-4c7c-afa3-1b0fe88c5d00",
   "metadata": {},
   "outputs": [
    {
     "data": {
      "text/plain": [
       "<bound method DataFrame.info of     Index      Customer Id First Name Last Name  \\\n",
       "0       1  DD37Cf93aecA6Dc     Sheryl    Baxter   \n",
       "1       2  1Ef7b82A4CAAD10    Preston    Lozano   \n",
       "2       3  6F94879bDAfE5a6        Roy     Berry   \n",
       "3       4  5Cef8BFA16c5e3c      Linda     Olsen   \n",
       "4       5  053d585Ab6b3159     Joanna    Bender   \n",
       "..    ...              ...        ...       ...   \n",
       "95     96  cb8E23e48d22Eae       Karl     Greer   \n",
       "96     97  CeD220bdAaCfaDf       Lynn  Atkinson   \n",
       "97     98  28CDbC0dFe4b1Db       Fred    Guerra   \n",
       "98     99  c23d1D9EE8DEB0A     Yvonne    Farmer   \n",
       "99    100  2354a0E336A91A1   Clarence    Haynes   \n",
       "\n",
       "                            Company               City  \\\n",
       "0                   Rasmussen Group       East Leonard   \n",
       "1                       Vega-Gentry  East Jimmychester   \n",
       "2                     Murillo-Perry      Isabelborough   \n",
       "3   Dominguez, Mcmillan and Donovan         Bensonview   \n",
       "4          Martin, Lang and Andrade     West Priscilla   \n",
       "..                              ...                ...   \n",
       "95                        Carey LLC       East Richard   \n",
       "96            Ware, Burns and Oneal       New Bradview   \n",
       "97                    Schmitt-Jones         Ortegaland   \n",
       "98               Fitzgerald-Harrell    Lake Elijahview   \n",
       "99               Le, Nash and Cross          Judymouth   \n",
       "\n",
       "                       Country                 Phone 1  \\\n",
       "0                        Chile            229.077.5154   \n",
       "1                     Djibouti              5153435776   \n",
       "2          Antigua and Barbuda         +1-539-402-0259   \n",
       "3           Dominican Republic  001-808-617-6467x12895   \n",
       "4   Slovakia (Slovak Republic)  001-234-203-0635x76146   \n",
       "..                         ...                     ...   \n",
       "95                      Guyana     (188)169-1674x58692   \n",
       "96                   Sri Lanka         +1-846-706-2218   \n",
       "97             Solomon Islands    +1-753-067-8419x7170   \n",
       "98                       Aruba           (530)311-9786   \n",
       "99                    Honduras           (753)813-6941   \n",
       "\n",
       "                   Phone 2                           Email Subscription Date  \\\n",
       "0         397.884.0519x718        zunigavanessa@smith.info        2020-08-24   \n",
       "1         686-620-1820x944                 vmata@colon.com        2021-04-23   \n",
       "2      (496)978-3969x58947             beckycarr@hogan.com        2020-03-25   \n",
       "3          +1-813-324-8756     stanleyblackwell@benson.org        2020-06-02   \n",
       "4    001-199-446-3860x3486         colinalvarado@miles.net        2021-04-17   \n",
       "..                     ...                             ...               ...   \n",
       "95    001-841-293-3519x614                hhart@jensen.com        2022-01-30   \n",
       "96            605.413.3198               vkemp@ferrell.com        2021-07-10   \n",
       "97   +1-632-666-7507x92121                swagner@kane.org        2021-09-18   \n",
       "98  001-869-452-0943x12424  mccarthystephen@horn-green.biz        2021-08-11   \n",
       "99            783.639.1472          colleen91@faulkner.biz        2020-03-11   \n",
       "\n",
       "                              Website  \n",
       "0          http://www.stephenson.com/  \n",
       "1               http://www.hobbs.com/  \n",
       "2            http://www.lawrence.com/  \n",
       "3          http://www.good-lyons.com/  \n",
       "4         https://goodwin-ingram.com/  \n",
       "..                                ...  \n",
       "95            http://hayes-perez.com/  \n",
       "96         https://novak-allison.com/  \n",
       "97              https://www.ross.com/  \n",
       "98               http://watkins.info/  \n",
       "99  http://www.hatfield-saunders.net/  \n",
       "\n",
       "[100 rows x 12 columns]>"
      ]
     },
     "execution_count": 43,
     "metadata": {},
     "output_type": "execute_result"
    }
   ],
   "source": [
    "df.info"
   ]
  },
  {
   "cell_type": "code",
   "execution_count": 47,
   "id": "a774cbfe-3fc9-4609-87e9-270437a10817",
   "metadata": {},
   "outputs": [
    {
     "name": "stdin",
     "output_type": "stream",
     "text": [
      "enter the key value: x\n",
      "enter the value: 1\n"
     ]
    },
    {
     "name": "stdout",
     "output_type": "stream",
     "text": [
      "{'x': 1}\n"
     ]
    },
    {
     "name": "stdin",
     "output_type": "stream",
     "text": [
      "enter the key value: y\n",
      "enter the value: 2\n"
     ]
    },
    {
     "name": "stdout",
     "output_type": "stream",
     "text": [
      "{'x': 1, 'y': 2}\n"
     ]
    },
    {
     "name": "stdin",
     "output_type": "stream",
     "text": [
      "enter the key value: z\n",
      "enter the value: 3\n"
     ]
    },
    {
     "name": "stdout",
     "output_type": "stream",
     "text": [
      "{'x': 1, 'y': 2, 'z': 3}\n"
     ]
    }
   ],
   "source": [
    "#dynamic data structure\n",
    "dict={}\n",
    "for x in range(3):\n",
    "    key=input(\"enter the key value:\")\n",
    "    val=int(input(\"enter the value:\"))\n",
    "    dict[key]=val\n",
    "    print(dict)\n",
    "   "
   ]
  },
  {
   "cell_type": "code",
   "execution_count": 1,
   "id": "bd8aba6b-ba99-42ac-83df-5d477d541bb8",
   "metadata": {},
   "outputs": [],
   "source": [
    "#task 4\n",
    "#NumPy Matrix Operations\n",
    "import numpy as np"
   ]
  },
  {
   "cell_type": "code",
   "execution_count": 4,
   "id": "17dcc6fe-c465-47da-b65b-976b2e7fca0a",
   "metadata": {},
   "outputs": [],
   "source": [
    "arr=np.array"
   ]
  },
  {
   "cell_type": "code",
   "execution_count": 13,
   "id": "5508b068-bebb-4caa-bbc4-8f9bd3609b3f",
   "metadata": {},
   "outputs": [],
   "source": [
    "my_list1=[1,2,]\n",
    "my_list2=[3,4]\n",
    "arr_1=np.array([my_list1,my_list2])"
   ]
  },
  {
   "cell_type": "code",
   "execution_count": 14,
   "id": "af26de52-6ee6-408a-a0f2-de0d67a3b086",
   "metadata": {},
   "outputs": [
    {
     "name": "stdout",
     "output_type": "stream",
     "text": [
      "[[1 2]\n",
      " [3 4]]\n"
     ]
    }
   ],
   "source": [
    "print(arr_1)"
   ]
  },
  {
   "cell_type": "code",
   "execution_count": 16,
   "id": "f7938b61-c1d2-47cc-9b5f-953b9c1cdeda",
   "metadata": {},
   "outputs": [
    {
     "name": "stdout",
     "output_type": "stream",
     "text": [
      "[[5 6]\n",
      " [7 8]]\n"
     ]
    }
   ],
   "source": [
    "my_list3=[5,6]\n",
    "my_list4=[7,8]\n",
    "arr_2=np.array([my_list3,my_list4])\n",
    "print(arr_2)"
   ]
  },
  {
   "cell_type": "code",
   "execution_count": 18,
   "id": "8e8da585-efd2-4056-ab73-0ba07957af24",
   "metadata": {},
   "outputs": [
    {
     "name": "stdout",
     "output_type": "stream",
     "text": [
      "sum= [[ 6  8]\n",
      " [10 12]]\n"
     ]
    }
   ],
   "source": [
    "sum=np.add(arr_1,arr_2)\n",
    "print(\"sum=\",sum)\n"
   ]
  },
  {
   "cell_type": "code",
   "execution_count": 19,
   "id": "5db7a7aa-c3f6-4272-8bc4-0ee78deda8e5",
   "metadata": {},
   "outputs": [
    {
     "name": "stdout",
     "output_type": "stream",
     "text": [
      "dot= [[19 22]\n",
      " [43 50]]\n"
     ]
    }
   ],
   "source": [
    "dot=np.dot(arr_1,arr_2)\n",
    "print(\"dot=\",dot)"
   ]
  },
  {
   "cell_type": "code",
   "execution_count": 25,
   "id": "41f5a3d0-fd65-4f01-8839-501f0bf62f99",
   "metadata": {},
   "outputs": [
    {
     "name": "stdout",
     "output_type": "stream",
     "text": [
      "element-wise-multiplication= [[ 5 12]\n",
      " [21 32]]\n"
     ]
    }
   ],
   "source": [
    "multiplication=np.multiply(arr_1,arr_2)\n",
    "print(\"element-wise-multiplication=\",multiplication)"
   ]
  },
  {
   "cell_type": "code",
   "execution_count": 26,
   "id": "f1e02b4d-b4de-47e3-ac0e-c8fd8a371d61",
   "metadata": {},
   "outputs": [
    {
     "name": "stdout",
     "output_type": "stream",
     "text": [
      "matrix_multiplication= [[19 22]\n",
      " [43 50]]\n"
     ]
    }
   ],
   "source": [
    "matrix=arr_1@arr_2\n",
    "print(\"matrix_multiplication=\",matrix)"
   ]
  },
  {
   "cell_type": "code",
   "execution_count": null,
   "id": "03386328-ecad-4757-9140-dc8d653c42bd",
   "metadata": {},
   "outputs": [],
   "source": []
  }
 ],
 "metadata": {
  "kernelspec": {
   "display_name": "Python 3 (ipykernel)",
   "language": "python",
   "name": "python3"
  },
  "language_info": {
   "codemirror_mode": {
    "name": "ipython",
    "version": 3
   },
   "file_extension": ".py",
   "mimetype": "text/x-python",
   "name": "python",
   "nbconvert_exporter": "python",
   "pygments_lexer": "ipython3",
   "version": "3.12.4"
  }
 },
 "nbformat": 4,
 "nbformat_minor": 5
}
