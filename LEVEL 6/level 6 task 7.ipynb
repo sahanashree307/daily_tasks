{
 "cells": [
  {
   "cell_type": "code",
   "execution_count": 1,
   "id": "64d975d5-08ce-4863-9e77-54fec9c3890e",
   "metadata": {},
   "outputs": [],
   "source": [
    "import numpy as np"
   ]
  },
  {
   "cell_type": "code",
   "execution_count": 2,
   "id": "485ac069-4239-4bfb-80b4-5df04eb10786",
   "metadata": {},
   "outputs": [
    {
     "name": "stdout",
     "output_type": "stream",
     "text": [
      "[2, 3, 4, 5, 6, 7]\n"
     ]
    }
   ],
   "source": [
    "data=[2, 3, 4, 5, 6, 7]\n",
    "print(data)"
   ]
  },
  {
   "cell_type": "code",
   "execution_count": 3,
   "id": "f0c836e1-5326-468c-a147-a6ac04577bf9",
   "metadata": {},
   "outputs": [],
   "source": [
    "Mean=np.mean(data)"
   ]
  },
  {
   "cell_type": "code",
   "execution_count": 4,
   "id": "450c8044-9b5d-4f16-bf5d-98bd33e803b9",
   "metadata": {},
   "outputs": [],
   "source": [
    "std_dev=np.std(data,ddof=0)"
   ]
  },
  {
   "cell_type": "code",
   "execution_count": 7,
   "id": "482bfb4c-a783-40e5-bab8-4dbd08dda361",
   "metadata": {},
   "outputs": [],
   "source": [
    "z_score=(data-Mean)/std_dev"
   ]
  },
  {
   "cell_type": "code",
   "execution_count": 9,
   "id": "198fa251-63f8-4262-a4c2-34601326b649",
   "metadata": {},
   "outputs": [],
   "source": [
    "z_score_for_5=(5-Mean)/std_dev"
   ]
  },
  {
   "cell_type": "code",
   "execution_count": 13,
   "id": "556ff475-a97c-4a4c-ab6d-8414b0ec5b92",
   "metadata": {},
   "outputs": [
    {
     "name": "stdout",
     "output_type": "stream",
     "text": [
      "Z-scores: [-1.46385011 -0.87831007 -0.29277002  0.29277002  0.87831007  1.46385011]\n",
      "The z-score for 5 is ~0.29, meaning it’s 0.29 standard deviations above the mean.\n"
     ]
    }
   ],
   "source": [
    "print(\"Z-scores:\",z_score)\n",
    "print(f\"The z-score for 5 is ~{z_score_for_5:.2f}, meaning it’s {z_score_for_5:.2f} standard deviations above the mean.\")"
   ]
  },
  {
   "cell_type": "code",
   "execution_count": null,
   "id": "a39d8f58-879d-4619-9c5b-9f7cda8cd901",
   "metadata": {},
   "outputs": [],
   "source": []
  }
 ],
 "metadata": {
  "kernelspec": {
   "display_name": "Python 3 (ipykernel)",
   "language": "python",
   "name": "python3"
  },
  "language_info": {
   "codemirror_mode": {
    "name": "ipython",
    "version": 3
   },
   "file_extension": ".py",
   "mimetype": "text/x-python",
   "name": "python",
   "nbconvert_exporter": "python",
   "pygments_lexer": "ipython3",
   "version": "3.12.4"
  }
 },
 "nbformat": 4,
 "nbformat_minor": 5
}
