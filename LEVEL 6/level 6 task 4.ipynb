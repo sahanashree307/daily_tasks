{
 "cells": [
  {
   "cell_type": "code",
   "execution_count": 8,
   "id": "d996808b-09e2-4ca6-afc3-959037af17df",
   "metadata": {},
   "outputs": [],
   "source": [
    "import numpy as np\n",
    "from scipy import stats"
   ]
  },
  {
   "cell_type": "code",
   "execution_count": 9,
   "id": "6916ccd3-f9d3-45f4-abf1-486887329c46",
   "metadata": {},
   "outputs": [
    {
     "name": "stdout",
     "output_type": "stream",
     "text": [
      "[3, 5, 5, 6, 7, 100]\n"
     ]
    }
   ],
   "source": [
    "data=[3, 5, 5, 6, 7, 100]\n",
    "print(data)"
   ]
  },
  {
   "cell_type": "code",
   "execution_count": 10,
   "id": "3fc45271-ef75-410c-bbad-b9eb953e9d94",
   "metadata": {},
   "outputs": [],
   "source": [
    "Mean=np.mean(data)"
   ]
  },
  {
   "cell_type": "code",
   "execution_count": 11,
   "id": "fd633092-5965-46f0-ae7f-f8959264382a",
   "metadata": {},
   "outputs": [],
   "source": [
    "Median=np.median(data)"
   ]
  },
  {
   "cell_type": "code",
   "execution_count": 13,
   "id": "f6f27abf-c406-466c-bb80-34932b220ad7",
   "metadata": {},
   "outputs": [],
   "source": [
    "Mode=stats.mode(data)"
   ]
  },
  {
   "cell_type": "code",
   "execution_count": 15,
   "id": "b3b067ff-206f-457b-b83d-c5977d368895",
   "metadata": {},
   "outputs": [
    {
     "name": "stdout",
     "output_type": "stream",
     "text": [
      "Mean: 21.0\n",
      "Median: 5.5\n",
      "Mode: ModeResult(mode=5, count=2)\n"
     ]
    }
   ],
   "source": [
    "print(\"Mean:\",Mean)\n",
    "print(\"Median:\",Median)\n",
    "print(\"Mode:\",Mode)"
   ]
  }
 ],
 "metadata": {
  "kernelspec": {
   "display_name": "Python 3 (ipykernel)",
   "language": "python",
   "name": "python3"
  },
  "language_info": {
   "codemirror_mode": {
    "name": "ipython",
    "version": 3
   },
   "file_extension": ".py",
   "mimetype": "text/x-python",
   "name": "python",
   "nbconvert_exporter": "python",
   "pygments_lexer": "ipython3",
   "version": "3.12.4"
  }
 },
 "nbformat": 4,
 "nbformat_minor": 5
}
