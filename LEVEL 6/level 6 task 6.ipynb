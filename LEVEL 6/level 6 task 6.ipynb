{
 "cells": [
  {
   "cell_type": "code",
   "execution_count": 1,
   "id": "8528cd76-d0a9-4e90-9246-c0571e65830c",
   "metadata": {},
   "outputs": [],
   "source": [
    "import numpy as np"
   ]
  },
  {
   "cell_type": "code",
   "execution_count": 2,
   "id": "d576dd2f-c700-447c-8a42-16a3a247ef67",
   "metadata": {},
   "outputs": [
    {
     "name": "stdout",
     "output_type": "stream",
     "text": [
      "[2, 4, 6, 8, 10]\n"
     ]
    }
   ],
   "source": [
    "data=[2, 4, 6, 8, 10]\n",
    "print(data)"
   ]
  },
  {
   "cell_type": "code",
   "execution_count": 17,
   "id": "fc22c310-e2fa-4463-a746-f90f669c5b32",
   "metadata": {},
   "outputs": [],
   "source": [
    "Mean=np.mean(data)"
   ]
  },
  {
   "cell_type": "code",
   "execution_count": 18,
   "id": "f49eb9b9-270d-4863-bb7a-8250046f9dce",
   "metadata": {},
   "outputs": [],
   "source": [
    "difference=data-Mean"
   ]
  },
  {
   "cell_type": "code",
   "execution_count": 19,
   "id": "ffd376cc-50e7-4e83-9d97-37c091b5803d",
   "metadata": {},
   "outputs": [],
   "source": [
    "squared_difference=difference**2"
   ]
  },
  {
   "cell_type": "code",
   "execution_count": 20,
   "id": "cc5b4415-ca0c-4731-bb5c-86e44c183c3c",
   "metadata": {},
   "outputs": [],
   "source": [
    "variance=squared_difference.mean()\n"
   ]
  },
  {
   "cell_type": "code",
   "execution_count": 21,
   "id": "89b64d17-0dc4-499a-bf39-6e058339e8d0",
   "metadata": {},
   "outputs": [],
   "source": [
    "standard_deviation=np.std(data)\n"
   ]
  },
  {
   "cell_type": "code",
   "execution_count": 23,
   "id": "4b714de6-6614-4ac8-aa5a-d85b09197c8f",
   "metadata": {},
   "outputs": [
    {
     "name": "stdout",
     "output_type": "stream",
     "text": [
      "Variance: 8.0\n",
      "Standard Deviation: 2.828\n"
     ]
    }
   ],
   "source": [
    "print(\"Variance:\",variance)\n",
    "print(f\"Standard Deviation: {standard_deviation:.3f}\")"
   ]
  },
  {
   "cell_type": "code",
   "execution_count": null,
   "id": "e100430f-c08a-4bf1-bd5c-1242cfb3b1a1",
   "metadata": {},
   "outputs": [],
   "source": []
  }
 ],
 "metadata": {
  "kernelspec": {
   "display_name": "Python 3 (ipykernel)",
   "language": "python",
   "name": "python3"
  },
  "language_info": {
   "codemirror_mode": {
    "name": "ipython",
    "version": 3
   },
   "file_extension": ".py",
   "mimetype": "text/x-python",
   "name": "python",
   "nbconvert_exporter": "python",
   "pygments_lexer": "ipython3",
   "version": "3.12.4"
  }
 },
 "nbformat": 4,
 "nbformat_minor": 5
}
